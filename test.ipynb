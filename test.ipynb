{
 "cells": [
  {
   "cell_type": "code",
   "execution_count": 1,
   "metadata": {},
   "outputs": [],
   "source": [
    "from scripts.train_optiver import train_and_evaluate\n",
    "from utils.optiver_dataloader import OptiverDataset\n",
    "from scripts.train_optiver import instantiate_FAST_model"
   ]
  },
  {
   "cell_type": "code",
   "execution_count": 2,
   "metadata": {},
   "outputs": [
    {
     "name": "stdout",
     "output_type": "stream",
     "text": [
      "Number of rows in dataset: 500\n",
      "Number of unique time_ids: 50\n",
      "Number of unique stocks: 10\n",
      "Creating sequences with 50 unique time points\n",
      "Number of features: 28\n",
      "Sequence length: 20\n",
      "Processed window 0/30\n",
      "\n",
      "Final shapes:\n",
      "X shape: (30, 20, 10, 28)\n",
      "y shape: (30, 10)\n",
      "Number of targets: 30\n"
     ]
    }
   ],
   "source": [
    "dataloader = OptiverDataset('/Users/francovidal/Desktop/School_Work/spring_25/AI2/AI2-Final-Project/train_subset.csv')"
   ]
  },
  {
   "cell_type": "code",
   "execution_count": 3,
   "metadata": {},
   "outputs": [
    {
     "name": "stdout",
     "output_type": "stream",
     "text": [
      "loading data\n"
     ]
    }
   ],
   "source": [
    "model, train_loader, val_loader = instantiate_FAST_model(dataloader)"
   ]
  },
  {
   "cell_type": "code",
   "execution_count": 4,
   "metadata": {},
   "outputs": [
    {
     "name": "stderr",
     "output_type": "stream",
     "text": [
      "Epoch 1/50: 100%|██████████| 1/1 [00:01<00:00,  1.19s/it]\n"
     ]
    },
    {
     "name": "stdout",
     "output_type": "stream",
     "text": [
      "Eval Metrics:\n",
      "Average Loss: 0.9117540121078491\n",
      "MAE: 4.563238143920898\n",
      "RMSE: 6.225242614746094\n",
      "Epoch 1:\n",
      "Train Loss = 1.2036081552505493\n",
      "Val Loss = 0.9117540121078491\n",
      "Val MAE = 4.563238143920898\n",
      "Val RMSE = 6.225242614746094\n",
      "Saved new best model!\n"
     ]
    },
    {
     "name": "stderr",
     "output_type": "stream",
     "text": [
      "Epoch 2/50: 100%|██████████| 1/1 [00:01<00:00,  1.03s/it]\n"
     ]
    },
    {
     "name": "stdout",
     "output_type": "stream",
     "text": [
      "Eval Metrics:\n",
      "Average Loss: 0.9113258123397827\n",
      "MAE: 4.5633344650268555\n",
      "RMSE: 6.22377347946167\n",
      "Epoch 2:\n",
      "Train Loss = 1.1264814138412476\n",
      "Val Loss = 0.9113258123397827\n",
      "Val MAE = 4.5633344650268555\n",
      "Val RMSE = 6.22377347946167\n"
     ]
    },
    {
     "name": "stderr",
     "output_type": "stream",
     "text": [
      "Epoch 3/50: 100%|██████████| 1/1 [00:01<00:00,  1.05s/it]\n"
     ]
    },
    {
     "name": "stdout",
     "output_type": "stream",
     "text": [
      "Eval Metrics:\n",
      "Average Loss: 0.9323945641517639\n",
      "MAE: 4.6356353759765625\n",
      "RMSE: 6.295652866363525\n",
      "Epoch 3:\n",
      "Train Loss = 1.1548528671264648\n",
      "Val Loss = 0.9323945641517639\n",
      "Val MAE = 4.6356353759765625\n",
      "Val RMSE = 6.295652866363525\n"
     ]
    },
    {
     "name": "stderr",
     "output_type": "stream",
     "text": [
      "Epoch 4/50: 100%|██████████| 1/1 [00:01<00:00,  1.11s/it]\n"
     ]
    },
    {
     "name": "stdout",
     "output_type": "stream",
     "text": [
      "Eval Metrics:\n",
      "Average Loss: 0.9475988149642944\n",
      "MAE: 4.6889824867248535\n",
      "RMSE: 6.347018718719482\n",
      "Epoch 4:\n",
      "Train Loss = 1.1027573347091675\n",
      "Val Loss = 0.9475988149642944\n",
      "Val MAE = 4.6889824867248535\n",
      "Val RMSE = 6.347018718719482\n"
     ]
    },
    {
     "name": "stderr",
     "output_type": "stream",
     "text": [
      "Epoch 5/50: 100%|██████████| 1/1 [00:00<00:00,  1.00it/s]\n"
     ]
    },
    {
     "name": "stdout",
     "output_type": "stream",
     "text": [
      "Eval Metrics:\n",
      "Average Loss: 0.9320704936981201\n",
      "MAE: 4.633246421813965\n",
      "RMSE: 6.294553756713867\n",
      "Epoch 5:\n",
      "Train Loss = 1.0526994466781616\n",
      "Val Loss = 0.9320704936981201\n",
      "Val MAE = 4.633246421813965\n",
      "Val RMSE = 6.294553756713867\n"
     ]
    },
    {
     "name": "stderr",
     "output_type": "stream",
     "text": [
      "Epoch 6/50: 100%|██████████| 1/1 [00:00<00:00,  1.00it/s]\n"
     ]
    },
    {
     "name": "stdout",
     "output_type": "stream",
     "text": [
      "Eval Metrics:\n",
      "Average Loss: 0.9180185794830322\n",
      "MAE: 4.5846781730651855\n",
      "RMSE: 6.246697902679443\n",
      "Epoch 6:\n",
      "Train Loss = 1.0860013961791992\n",
      "Val Loss = 0.9180185794830322\n",
      "Val MAE = 4.5846781730651855\n",
      "Val RMSE = 6.246697902679443\n"
     ]
    },
    {
     "name": "stderr",
     "output_type": "stream",
     "text": [
      "Epoch 7/50: 100%|██████████| 1/1 [00:01<00:00,  1.02s/it]\n"
     ]
    },
    {
     "name": "stdout",
     "output_type": "stream",
     "text": [
      "Eval Metrics:\n",
      "Average Loss: 0.9186602234840393\n",
      "MAE: 4.587676525115967\n",
      "RMSE: 6.2488908767700195\n",
      "Epoch 7:\n",
      "Train Loss = 1.122633934020996\n",
      "Val Loss = 0.9186602234840393\n",
      "Val MAE = 4.587676525115967\n",
      "Val RMSE = 6.2488908767700195\n"
     ]
    },
    {
     "name": "stderr",
     "output_type": "stream",
     "text": [
      "Epoch 8/50: 100%|██████████| 1/1 [00:01<00:00,  1.02s/it]\n"
     ]
    },
    {
     "name": "stdout",
     "output_type": "stream",
     "text": [
      "Eval Metrics:\n",
      "Average Loss: 0.926263689994812\n",
      "MAE: 4.60845422744751\n",
      "RMSE: 6.274823188781738\n",
      "Epoch 8:\n",
      "Train Loss = 1.0972634553909302\n",
      "Val Loss = 0.926263689994812\n",
      "Val MAE = 4.60845422744751\n",
      "Val RMSE = 6.274823188781738\n"
     ]
    },
    {
     "name": "stderr",
     "output_type": "stream",
     "text": [
      "Epoch 9/50: 100%|██████████| 1/1 [00:01<00:00,  1.02s/it]\n"
     ]
    },
    {
     "name": "stdout",
     "output_type": "stream",
     "text": [
      "Eval Metrics:\n",
      "Average Loss: 0.9348156452178955\n",
      "MAE: 4.634293079376221\n",
      "RMSE: 6.303861618041992\n",
      "Epoch 9:\n",
      "Train Loss = 1.0940381288528442\n",
      "Val Loss = 0.9348156452178955\n",
      "Val MAE = 4.634293079376221\n",
      "Val RMSE = 6.303861618041992\n"
     ]
    },
    {
     "name": "stderr",
     "output_type": "stream",
     "text": [
      "Epoch 10/50: 100%|██████████| 1/1 [00:01<00:00,  1.02s/it]\n"
     ]
    },
    {
     "name": "stdout",
     "output_type": "stream",
     "text": [
      "Eval Metrics:\n",
      "Average Loss: 0.938671886920929\n",
      "MAE: 4.6460089683532715\n",
      "RMSE: 6.3169121742248535\n",
      "Epoch 10:\n",
      "Train Loss = 1.0730640888214111\n",
      "Val Loss = 0.938671886920929\n",
      "Val MAE = 4.6460089683532715\n",
      "Val RMSE = 6.3169121742248535\n"
     ]
    },
    {
     "name": "stderr",
     "output_type": "stream",
     "text": [
      "Epoch 11/50: 100%|██████████| 1/1 [00:01<00:00,  1.05s/it]\n"
     ]
    },
    {
     "name": "stdout",
     "output_type": "stream",
     "text": [
      "Eval Metrics:\n",
      "Average Loss: 0.9365289807319641\n",
      "MAE: 4.636693954467773\n",
      "RMSE: 6.309662818908691\n",
      "Epoch 11:\n",
      "Train Loss = 1.0527031421661377\n",
      "Val Loss = 0.9365289807319641\n",
      "Val MAE = 4.636693954467773\n",
      "Val RMSE = 6.309662818908691\n"
     ]
    },
    {
     "name": "stderr",
     "output_type": "stream",
     "text": [
      "Epoch 12/50: 100%|██████████| 1/1 [00:00<00:00,  1.01it/s]\n"
     ]
    },
    {
     "name": "stdout",
     "output_type": "stream",
     "text": [
      "Eval Metrics:\n",
      "Average Loss: 0.9305456876754761\n",
      "MAE: 4.617124080657959\n",
      "RMSE: 6.289380073547363\n",
      "Epoch 12:\n",
      "Train Loss = 1.0983108282089233\n",
      "Val Loss = 0.9305456876754761\n",
      "Val MAE = 4.617124080657959\n",
      "Val RMSE = 6.289380073547363\n"
     ]
    },
    {
     "name": "stderr",
     "output_type": "stream",
     "text": [
      "Epoch 13/50: 100%|██████████| 1/1 [00:00<00:00,  1.02it/s]\n"
     ]
    },
    {
     "name": "stdout",
     "output_type": "stream",
     "text": [
      "Eval Metrics:\n",
      "Average Loss: 0.9249809980392456\n",
      "MAE: 4.603072643280029\n",
      "RMSE: 6.270456790924072\n",
      "Epoch 13:\n",
      "Train Loss = 1.0683143138885498\n",
      "Val Loss = 0.9249809980392456\n",
      "Val MAE = 4.603072643280029\n",
      "Val RMSE = 6.270456790924072\n"
     ]
    },
    {
     "name": "stderr",
     "output_type": "stream",
     "text": [
      "Epoch 14/50: 100%|██████████| 1/1 [00:00<00:00,  1.00it/s]\n"
     ]
    },
    {
     "name": "stdout",
     "output_type": "stream",
     "text": [
      "Eval Metrics:\n",
      "Average Loss: 0.9221932291984558\n",
      "MAE: 4.596783638000488\n",
      "RMSE: 6.260955333709717\n",
      "Epoch 14:\n",
      "Train Loss = 1.0567742586135864\n",
      "Val Loss = 0.9221932291984558\n",
      "Val MAE = 4.596783638000488\n",
      "Val RMSE = 6.260955333709717\n"
     ]
    },
    {
     "name": "stderr",
     "output_type": "stream",
     "text": [
      "Epoch 15/50: 100%|██████████| 1/1 [00:00<00:00,  1.01it/s]\n"
     ]
    },
    {
     "name": "stdout",
     "output_type": "stream",
     "text": [
      "Eval Metrics:\n",
      "Average Loss: 0.9224352240562439\n",
      "MAE: 4.597218990325928\n",
      "RMSE: 6.261780738830566\n",
      "Epoch 15:\n",
      "Train Loss = 1.1122381687164307\n",
      "Val Loss = 0.9224352240562439\n",
      "Val MAE = 4.597218990325928\n",
      "Val RMSE = 6.261780738830566\n"
     ]
    },
    {
     "name": "stderr",
     "output_type": "stream",
     "text": [
      "Epoch 16/50: 100%|██████████| 1/1 [00:01<00:00,  1.00s/it]\n"
     ]
    },
    {
     "name": "stdout",
     "output_type": "stream",
     "text": [
      "Eval Metrics:\n",
      "Average Loss: 0.9241461753845215\n",
      "MAE: 4.600348472595215\n",
      "RMSE: 6.267612934112549\n",
      "Epoch 16:\n",
      "Train Loss = 1.1033765077590942\n",
      "Val Loss = 0.9241461753845215\n",
      "Val MAE = 4.600348472595215\n",
      "Val RMSE = 6.267612934112549\n"
     ]
    },
    {
     "name": "stderr",
     "output_type": "stream",
     "text": [
      "Epoch 17/50: 100%|██████████| 1/1 [00:00<00:00,  1.02it/s]\n"
     ]
    },
    {
     "name": "stdout",
     "output_type": "stream",
     "text": [
      "Eval Metrics:\n",
      "Average Loss: 0.9271396994590759\n",
      "MAE: 4.606406211853027\n",
      "RMSE: 6.277804374694824\n",
      "Epoch 17:\n",
      "Train Loss = 1.0877798795700073\n",
      "Val Loss = 0.9271396994590759\n",
      "Val MAE = 4.606406211853027\n",
      "Val RMSE = 6.277804374694824\n"
     ]
    },
    {
     "name": "stderr",
     "output_type": "stream",
     "text": [
      "Epoch 18/50: 100%|██████████| 1/1 [00:00<00:00,  1.03it/s]\n"
     ]
    },
    {
     "name": "stdout",
     "output_type": "stream",
     "text": [
      "Eval Metrics:\n",
      "Average Loss: 0.9315559267997742\n",
      "MAE: 4.615702152252197\n",
      "RMSE: 6.29280948638916\n",
      "Epoch 18:\n",
      "Train Loss = 1.1069618463516235\n",
      "Val Loss = 0.9315559267997742\n",
      "Val MAE = 4.615702152252197\n",
      "Val RMSE = 6.29280948638916\n"
     ]
    },
    {
     "name": "stderr",
     "output_type": "stream",
     "text": [
      "Epoch 19/50: 100%|██████████| 1/1 [00:00<00:00,  1.02it/s]\n"
     ]
    },
    {
     "name": "stdout",
     "output_type": "stream",
     "text": [
      "Eval Metrics:\n",
      "Average Loss: 0.9371840357780457\n",
      "MAE: 4.630889892578125\n",
      "RMSE: 6.311881065368652\n",
      "Epoch 19:\n",
      "Train Loss = 1.1059514284133911\n",
      "Val Loss = 0.9371840357780457\n",
      "Val MAE = 4.630889892578125\n",
      "Val RMSE = 6.311881065368652\n"
     ]
    },
    {
     "name": "stderr",
     "output_type": "stream",
     "text": [
      "Epoch 20/50: 100%|██████████| 1/1 [00:01<00:00,  1.00s/it]\n"
     ]
    },
    {
     "name": "stdout",
     "output_type": "stream",
     "text": [
      "Eval Metrics:\n",
      "Average Loss: 0.9411548376083374\n",
      "MAE: 4.641374111175537\n",
      "RMSE: 6.3253021240234375\n",
      "Epoch 20:\n",
      "Train Loss = 1.0774708986282349\n",
      "Val Loss = 0.9411548376083374\n",
      "Val MAE = 4.641374111175537\n",
      "Val RMSE = 6.3253021240234375\n"
     ]
    },
    {
     "name": "stderr",
     "output_type": "stream",
     "text": [
      "Epoch 21/50: 100%|██████████| 1/1 [00:00<00:00,  1.01it/s]\n"
     ]
    },
    {
     "name": "stdout",
     "output_type": "stream",
     "text": [
      "Eval Metrics:\n",
      "Average Loss: 0.9418395757675171\n",
      "MAE: 4.642860412597656\n",
      "RMSE: 6.327613353729248\n",
      "Epoch 21:\n",
      "Train Loss = 1.0892161130905151\n",
      "Val Loss = 0.9418395757675171\n",
      "Val MAE = 4.642860412597656\n",
      "Val RMSE = 6.327613353729248\n"
     ]
    },
    {
     "name": "stderr",
     "output_type": "stream",
     "text": [
      "Epoch 22/50: 100%|██████████| 1/1 [00:00<00:00,  1.02it/s]\n"
     ]
    },
    {
     "name": "stdout",
     "output_type": "stream",
     "text": [
      "Eval Metrics:\n",
      "Average Loss: 0.9413495063781738\n",
      "MAE: 4.641186714172363\n",
      "RMSE: 6.3259596824646\n",
      "Epoch 22:\n",
      "Train Loss = 1.1097668409347534\n",
      "Val Loss = 0.9413495063781738\n",
      "Val MAE = 4.641186714172363\n",
      "Val RMSE = 6.3259596824646\n"
     ]
    },
    {
     "name": "stderr",
     "output_type": "stream",
     "text": [
      "Epoch 23/50: 100%|██████████| 1/1 [00:00<00:00,  1.02it/s]\n"
     ]
    },
    {
     "name": "stdout",
     "output_type": "stream",
     "text": [
      "Eval Metrics:\n",
      "Average Loss: 0.9399691820144653\n",
      "MAE: 4.63699197769165\n",
      "RMSE: 6.321297645568848\n",
      "Epoch 23:\n",
      "Train Loss = 1.1161748170852661\n",
      "Val Loss = 0.9399691820144653\n",
      "Val MAE = 4.63699197769165\n",
      "Val RMSE = 6.321297645568848\n"
     ]
    },
    {
     "name": "stderr",
     "output_type": "stream",
     "text": [
      "Epoch 24/50: 100%|██████████| 1/1 [00:00<00:00,  1.02it/s]\n"
     ]
    },
    {
     "name": "stdout",
     "output_type": "stream",
     "text": [
      "Eval Metrics:\n",
      "Average Loss: 0.9377559423446655\n",
      "MAE: 4.630289554595947\n",
      "RMSE: 6.313816070556641\n",
      "Epoch 24:\n",
      "Train Loss = 1.1159220933914185\n",
      "Val Loss = 0.9377559423446655\n",
      "Val MAE = 4.630289554595947\n",
      "Val RMSE = 6.313816070556641\n"
     ]
    },
    {
     "name": "stderr",
     "output_type": "stream",
     "text": [
      "Epoch 25/50: 100%|██████████| 1/1 [00:01<00:00,  1.07s/it]\n"
     ]
    },
    {
     "name": "stdout",
     "output_type": "stream",
     "text": [
      "Eval Metrics:\n",
      "Average Loss: 0.935188889503479\n",
      "MAE: 4.6223578453063965\n",
      "RMSE: 6.305127143859863\n",
      "Epoch 25:\n",
      "Train Loss = 1.088028907775879\n",
      "Val Loss = 0.935188889503479\n",
      "Val MAE = 4.6223578453063965\n",
      "Val RMSE = 6.305127143859863\n"
     ]
    },
    {
     "name": "stderr",
     "output_type": "stream",
     "text": [
      "Epoch 26/50: 100%|██████████| 1/1 [00:00<00:00,  1.00it/s]\n"
     ]
    },
    {
     "name": "stdout",
     "output_type": "stream",
     "text": [
      "Eval Metrics:\n",
      "Average Loss: 0.9326533675193787\n",
      "MAE: 4.615881443023682\n",
      "RMSE: 6.296533107757568\n",
      "Epoch 26:\n",
      "Train Loss = 1.079342246055603\n",
      "Val Loss = 0.9326533675193787\n",
      "Val MAE = 4.615881443023682\n",
      "Val RMSE = 6.296533107757568\n"
     ]
    },
    {
     "name": "stderr",
     "output_type": "stream",
     "text": [
      "Epoch 27/50: 100%|██████████| 1/1 [00:00<00:00,  1.00it/s]\n"
     ]
    },
    {
     "name": "stdout",
     "output_type": "stream",
     "text": [
      "Eval Metrics:\n",
      "Average Loss: 0.9315694570541382\n",
      "MAE: 4.613256454467773\n",
      "RMSE: 6.292856216430664\n",
      "Epoch 27:\n",
      "Train Loss = 1.0705649852752686\n",
      "Val Loss = 0.9315694570541382\n",
      "Val MAE = 4.613256454467773\n",
      "Val RMSE = 6.292856216430664\n"
     ]
    },
    {
     "name": "stderr",
     "output_type": "stream",
     "text": [
      "Epoch 28/50: 100%|██████████| 1/1 [00:00<00:00,  1.01it/s]\n"
     ]
    },
    {
     "name": "stdout",
     "output_type": "stream",
     "text": [
      "Eval Metrics:\n",
      "Average Loss: 0.9308015704154968\n",
      "MAE: 4.611814498901367\n",
      "RMSE: 6.290250301361084\n",
      "Epoch 28:\n",
      "Train Loss = 1.0942556858062744\n",
      "Val Loss = 0.9308015704154968\n",
      "Val MAE = 4.611814498901367\n",
      "Val RMSE = 6.290250301361084\n"
     ]
    },
    {
     "name": "stderr",
     "output_type": "stream",
     "text": [
      "Epoch 29/50: 100%|██████████| 1/1 [00:00<00:00,  1.00it/s]\n"
     ]
    },
    {
     "name": "stdout",
     "output_type": "stream",
     "text": [
      "Eval Metrics:\n",
      "Average Loss: 0.9301312565803528\n",
      "MAE: 4.610498905181885\n",
      "RMSE: 6.287973403930664\n",
      "Epoch 29:\n",
      "Train Loss = 1.0921485424041748\n",
      "Val Loss = 0.9301312565803528\n",
      "Val MAE = 4.610498905181885\n",
      "Val RMSE = 6.287973403930664\n"
     ]
    },
    {
     "name": "stderr",
     "output_type": "stream",
     "text": [
      "Epoch 30/50: 100%|██████████| 1/1 [00:00<00:00,  1.00it/s]\n"
     ]
    },
    {
     "name": "stdout",
     "output_type": "stream",
     "text": [
      "Eval Metrics:\n",
      "Average Loss: 0.9295694231987\n",
      "MAE: 4.6093621253967285\n",
      "RMSE: 6.286065101623535\n",
      "Epoch 30:\n",
      "Train Loss = 1.0742369890213013\n",
      "Val Loss = 0.9295694231987\n",
      "Val MAE = 4.6093621253967285\n",
      "Val RMSE = 6.286065101623535\n"
     ]
    },
    {
     "name": "stderr",
     "output_type": "stream",
     "text": [
      "Epoch 31/50: 100%|██████████| 1/1 [00:00<00:00,  1.00it/s]\n"
     ]
    },
    {
     "name": "stdout",
     "output_type": "stream",
     "text": [
      "Eval Metrics:\n",
      "Average Loss: 0.9292504787445068\n",
      "MAE: 4.60867977142334\n",
      "RMSE: 6.2849812507629395\n",
      "Epoch 31:\n",
      "Train Loss = 1.049150824546814\n",
      "Val Loss = 0.9292504787445068\n",
      "Val MAE = 4.60867977142334\n",
      "Val RMSE = 6.2849812507629395\n"
     ]
    },
    {
     "name": "stderr",
     "output_type": "stream",
     "text": [
      "Epoch 32/50: 100%|██████████| 1/1 [00:01<00:00,  1.00s/it]\n"
     ]
    },
    {
     "name": "stdout",
     "output_type": "stream",
     "text": [
      "Eval Metrics:\n",
      "Average Loss: 0.9291715621948242\n",
      "MAE: 4.608447074890137\n",
      "RMSE: 6.284713268280029\n",
      "Epoch 32:\n",
      "Train Loss = 1.0924147367477417\n",
      "Val Loss = 0.9291715621948242\n",
      "Val MAE = 4.608447074890137\n",
      "Val RMSE = 6.284713268280029\n"
     ]
    },
    {
     "name": "stderr",
     "output_type": "stream",
     "text": [
      "Epoch 33/50: 100%|██████████| 1/1 [00:01<00:00,  1.00s/it]\n"
     ]
    },
    {
     "name": "stdout",
     "output_type": "stream",
     "text": [
      "Eval Metrics:\n",
      "Average Loss: 0.9293107986450195\n",
      "MAE: 4.608680248260498\n",
      "RMSE: 6.285186290740967\n",
      "Epoch 33:\n",
      "Train Loss = 1.0838290452957153\n",
      "Val Loss = 0.9293107986450195\n",
      "Val MAE = 4.608680248260498\n",
      "Val RMSE = 6.285186290740967\n"
     ]
    },
    {
     "name": "stderr",
     "output_type": "stream",
     "text": [
      "Epoch 34/50: 100%|██████████| 1/1 [00:00<00:00,  1.01it/s]\n"
     ]
    },
    {
     "name": "stdout",
     "output_type": "stream",
     "text": [
      "Eval Metrics:\n",
      "Average Loss: 0.929557204246521\n",
      "MAE: 4.609112739562988\n",
      "RMSE: 6.2860236167907715\n",
      "Epoch 34:\n",
      "Train Loss = 1.0729299783706665\n",
      "Val Loss = 0.929557204246521\n",
      "Val MAE = 4.609112739562988\n",
      "Val RMSE = 6.2860236167907715\n"
     ]
    },
    {
     "name": "stderr",
     "output_type": "stream",
     "text": [
      "Epoch 35/50: 100%|██████████| 1/1 [00:00<00:00,  1.01it/s]\n"
     ]
    },
    {
     "name": "stdout",
     "output_type": "stream",
     "text": [
      "Eval Metrics:\n",
      "Average Loss: 0.9297641515731812\n",
      "MAE: 4.609468460083008\n",
      "RMSE: 6.286727428436279\n",
      "Epoch 35:\n",
      "Train Loss = 1.0804437398910522\n",
      "Val Loss = 0.9297641515731812\n",
      "Val MAE = 4.609468460083008\n",
      "Val RMSE = 6.286727428436279\n"
     ]
    },
    {
     "name": "stderr",
     "output_type": "stream",
     "text": [
      "Epoch 36/50: 100%|██████████| 1/1 [00:01<00:00,  1.04s/it]\n"
     ]
    },
    {
     "name": "stdout",
     "output_type": "stream",
     "text": [
      "Eval Metrics:\n",
      "Average Loss: 0.9300806522369385\n",
      "MAE: 4.610017776489258\n",
      "RMSE: 6.287801742553711\n",
      "Epoch 36:\n",
      "Train Loss = 1.0760409832000732\n",
      "Val Loss = 0.9300806522369385\n",
      "Val MAE = 4.610017776489258\n",
      "Val RMSE = 6.287801742553711\n"
     ]
    },
    {
     "name": "stderr",
     "output_type": "stream",
     "text": [
      "Epoch 37/50: 100%|██████████| 1/1 [00:00<00:00,  1.00it/s]\n"
     ]
    },
    {
     "name": "stdout",
     "output_type": "stream",
     "text": [
      "Eval Metrics:\n",
      "Average Loss: 0.9304549694061279\n",
      "MAE: 4.610661506652832\n",
      "RMSE: 6.2890729904174805\n",
      "Epoch 37:\n",
      "Train Loss = 1.0983210802078247\n",
      "Val Loss = 0.9304549694061279\n",
      "Val MAE = 4.610661506652832\n",
      "Val RMSE = 6.2890729904174805\n"
     ]
    },
    {
     "name": "stderr",
     "output_type": "stream",
     "text": [
      "Epoch 38/50: 100%|██████████| 1/1 [00:00<00:00,  1.01it/s]\n"
     ]
    },
    {
     "name": "stdout",
     "output_type": "stream",
     "text": [
      "Eval Metrics:\n",
      "Average Loss: 0.9308006167411804\n",
      "MAE: 4.61124324798584\n",
      "RMSE: 6.290246486663818\n",
      "Epoch 38:\n",
      "Train Loss = 1.1027032136917114\n",
      "Val Loss = 0.9308006167411804\n",
      "Val MAE = 4.61124324798584\n",
      "Val RMSE = 6.290246486663818\n"
     ]
    },
    {
     "name": "stderr",
     "output_type": "stream",
     "text": [
      "Epoch 39/50: 100%|██████████| 1/1 [00:00<00:00,  1.01it/s]\n"
     ]
    },
    {
     "name": "stdout",
     "output_type": "stream",
     "text": [
      "Eval Metrics:\n",
      "Average Loss: 0.9309399724006653\n",
      "MAE: 4.61146879196167\n",
      "RMSE: 6.290719985961914\n",
      "Epoch 39:\n",
      "Train Loss = 1.0841689109802246\n",
      "Val Loss = 0.9309399724006653\n",
      "Val MAE = 4.61146879196167\n",
      "Val RMSE = 6.290719985961914\n"
     ]
    },
    {
     "name": "stderr",
     "output_type": "stream",
     "text": [
      "Epoch 40/50: 100%|██████████| 1/1 [00:00<00:00,  1.01it/s]\n"
     ]
    },
    {
     "name": "stdout",
     "output_type": "stream",
     "text": [
      "Eval Metrics:\n",
      "Average Loss: 0.9310964345932007\n",
      "MAE: 4.611722469329834\n",
      "RMSE: 6.291250705718994\n",
      "Epoch 40:\n",
      "Train Loss = 1.0883123874664307\n",
      "Val Loss = 0.9310964345932007\n",
      "Val MAE = 4.611722469329834\n",
      "Val RMSE = 6.291250705718994\n"
     ]
    },
    {
     "name": "stderr",
     "output_type": "stream",
     "text": [
      "Epoch 41/50: 100%|██████████| 1/1 [00:00<00:00,  1.01it/s]\n"
     ]
    },
    {
     "name": "stdout",
     "output_type": "stream",
     "text": [
      "Eval Metrics:\n",
      "Average Loss: 0.9312305450439453\n",
      "MAE: 4.611938953399658\n",
      "RMSE: 6.291706085205078\n",
      "Epoch 41:\n",
      "Train Loss = 1.058787226676941\n",
      "Val Loss = 0.9312305450439453\n",
      "Val MAE = 4.611938953399658\n",
      "Val RMSE = 6.291706085205078\n"
     ]
    },
    {
     "name": "stderr",
     "output_type": "stream",
     "text": [
      "Epoch 42/50: 100%|██████████| 1/1 [00:01<00:00,  1.01s/it]\n"
     ]
    },
    {
     "name": "stdout",
     "output_type": "stream",
     "text": [
      "Eval Metrics:\n",
      "Average Loss: 0.9313695430755615\n",
      "MAE: 4.612163066864014\n",
      "RMSE: 6.292178153991699\n",
      "Epoch 42:\n",
      "Train Loss = 1.1026204824447632\n",
      "Val Loss = 0.9313695430755615\n",
      "Val MAE = 4.612163066864014\n",
      "Val RMSE = 6.292178153991699\n"
     ]
    },
    {
     "name": "stderr",
     "output_type": "stream",
     "text": [
      "Epoch 43/50: 100%|██████████| 1/1 [00:00<00:00,  1.01it/s]\n"
     ]
    },
    {
     "name": "stdout",
     "output_type": "stream",
     "text": [
      "Eval Metrics:\n",
      "Average Loss: 0.9314724206924438\n",
      "MAE: 4.612321853637695\n",
      "RMSE: 6.292527198791504\n",
      "Epoch 43:\n",
      "Train Loss = 1.0917001962661743\n",
      "Val Loss = 0.9314724206924438\n",
      "Val MAE = 4.612321853637695\n",
      "Val RMSE = 6.292527198791504\n"
     ]
    },
    {
     "name": "stderr",
     "output_type": "stream",
     "text": [
      "Epoch 44/50: 100%|██████████| 1/1 [00:00<00:00,  1.01it/s]\n"
     ]
    },
    {
     "name": "stdout",
     "output_type": "stream",
     "text": [
      "Eval Metrics:\n",
      "Average Loss: 0.9316179156303406\n",
      "MAE: 4.612563133239746\n",
      "RMSE: 6.293020725250244\n",
      "Epoch 44:\n",
      "Train Loss = 1.0700652599334717\n",
      "Val Loss = 0.9316179156303406\n",
      "Val MAE = 4.612563133239746\n",
      "Val RMSE = 6.293020725250244\n"
     ]
    },
    {
     "name": "stderr",
     "output_type": "stream",
     "text": [
      "Epoch 45/50: 100%|██████████| 1/1 [00:00<00:00,  1.02it/s]\n"
     ]
    },
    {
     "name": "stdout",
     "output_type": "stream",
     "text": [
      "Eval Metrics:\n",
      "Average Loss: 0.9317102432250977\n",
      "MAE: 4.612720012664795\n",
      "RMSE: 6.293334007263184\n",
      "Epoch 45:\n",
      "Train Loss = 1.0734024047851562\n",
      "Val Loss = 0.9317102432250977\n",
      "Val MAE = 4.612720012664795\n",
      "Val RMSE = 6.293334007263184\n"
     ]
    },
    {
     "name": "stderr",
     "output_type": "stream",
     "text": [
      "Epoch 46/50: 100%|██████████| 1/1 [00:00<00:00,  1.01it/s]\n"
     ]
    },
    {
     "name": "stdout",
     "output_type": "stream",
     "text": [
      "Eval Metrics:\n",
      "Average Loss: 0.9317819476127625\n",
      "MAE: 4.612838268280029\n",
      "RMSE: 6.293577671051025\n",
      "Epoch 46:\n",
      "Train Loss = 1.0809811353683472\n",
      "Val Loss = 0.9317819476127625\n",
      "Val MAE = 4.612838268280029\n",
      "Val RMSE = 6.293577671051025\n"
     ]
    },
    {
     "name": "stderr",
     "output_type": "stream",
     "text": [
      "Epoch 47/50: 100%|██████████| 1/1 [00:00<00:00,  1.02it/s]\n"
     ]
    },
    {
     "name": "stdout",
     "output_type": "stream",
     "text": [
      "Eval Metrics:\n",
      "Average Loss: 0.9318962097167969\n",
      "MAE: 4.61303186416626\n",
      "RMSE: 6.2939653396606445\n",
      "Epoch 47:\n",
      "Train Loss = 1.0703977346420288\n",
      "Val Loss = 0.9318962097167969\n",
      "Val MAE = 4.61303186416626\n",
      "Val RMSE = 6.2939653396606445\n"
     ]
    },
    {
     "name": "stderr",
     "output_type": "stream",
     "text": [
      "Epoch 48/50: 100%|██████████| 1/1 [00:00<00:00,  1.01it/s]\n"
     ]
    },
    {
     "name": "stdout",
     "output_type": "stream",
     "text": [
      "Eval Metrics:\n",
      "Average Loss: 0.9319714307785034\n",
      "MAE: 4.613156318664551\n",
      "RMSE: 6.294220447540283\n",
      "Epoch 48:\n",
      "Train Loss = 1.1103180646896362\n",
      "Val Loss = 0.9319714307785034\n",
      "Val MAE = 4.613156318664551\n",
      "Val RMSE = 6.294220447540283\n"
     ]
    },
    {
     "name": "stderr",
     "output_type": "stream",
     "text": [
      "Epoch 49/50: 100%|██████████| 1/1 [00:01<00:00,  1.05s/it]\n"
     ]
    },
    {
     "name": "stdout",
     "output_type": "stream",
     "text": [
      "Eval Metrics:\n",
      "Average Loss: 0.9320673942565918\n",
      "MAE: 4.613316535949707\n",
      "RMSE: 6.294546604156494\n",
      "Epoch 49:\n",
      "Train Loss = 1.056632399559021\n",
      "Val Loss = 0.9320673942565918\n",
      "Val MAE = 4.613316535949707\n",
      "Val RMSE = 6.294546604156494\n"
     ]
    },
    {
     "name": "stderr",
     "output_type": "stream",
     "text": [
      "Epoch 50/50: 100%|██████████| 1/1 [00:00<00:00,  1.01it/s]"
     ]
    },
    {
     "name": "stdout",
     "output_type": "stream",
     "text": [
      "Eval Metrics:\n",
      "Average Loss: 0.9321586489677429\n",
      "MAE: 4.613466262817383\n",
      "RMSE: 6.294855117797852\n",
      "Epoch 50:\n",
      "Train Loss = 1.082358717918396\n",
      "Val Loss = 0.9321586489677429\n",
      "Val MAE = 4.613466262817383\n",
      "Val RMSE = 6.294855117797852\n",
      "Training completed!\n",
      "Best model MAE: 4.563238143920898 at epoch 0\n",
      "Best model metrics: {'loss': 0.9117540121078491, 'mae': 4.563238, 'rmse': 6.2252426}\n"
     ]
    },
    {
     "name": "stderr",
     "output_type": "stream",
     "text": [
      "\n"
     ]
    }
   ],
   "source": [
    "train_and_evaluate(dataloader, model, train_loader, val_loader)"
   ]
  }
 ],
 "metadata": {
  "kernelspec": {
   "display_name": "testenv",
   "language": "python",
   "name": "python3"
  },
  "language_info": {
   "codemirror_mode": {
    "name": "ipython",
    "version": 3
   },
   "file_extension": ".py",
   "mimetype": "text/x-python",
   "name": "python",
   "nbconvert_exporter": "python",
   "pygments_lexer": "ipython3",
   "version": "3.12.3"
  }
 },
 "nbformat": 4,
 "nbformat_minor": 2
}
